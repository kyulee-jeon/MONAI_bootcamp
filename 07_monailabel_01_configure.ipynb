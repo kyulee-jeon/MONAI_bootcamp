{
 "cells": [
  {
   "cell_type": "markdown",
   "id": "e220a07c",
   "metadata": {},
   "source": [
    "# MONAI label\n",
    "\n",
    "MONAI Label is an intelligent open source image labeling and learning tool that enables users to create annotated datasets and build AI annotation models for clinical evaluation. MONAI Label enables application developers to build labeling apps in a serverless way, where custom labeling apps are exposed as a service through the MONAI Label Server."
   ]
  },
  {
   "cell_type": "markdown",
   "id": "807fe70e",
   "metadata": {},
   "source": [
    "## configuration"
   ]
  },
  {
   "cell_type": "code",
   "execution_count": 1,
   "id": "b0dead3e",
   "metadata": {},
   "outputs": [
    {
     "name": "stdout",
     "output_type": "stream",
     "text": [
      "/lustre/workspaces/w54a7mgn/workspace-monailabel-labs\n"
     ]
    }
   ],
   "source": [
    "#check work directory\n",
    "!pwd"
   ]
  },
  {
   "cell_type": "markdown",
   "id": "9b2ed5fd",
   "metadata": {},
   "source": [
    "### check available MONAI Label Apps."
   ]
  },
  {
   "cell_type": "code",
   "execution_count": 2,
   "id": "027846e7",
   "metadata": {},
   "outputs": [
    {
     "name": "stdout",
     "output_type": "stream",
     "text": [
      "Using PYTHONPATH=/opt:\n",
      "Available Apps are:\n",
      "----------------------------------------------------\n",
      "  endoscopy                     : /opt/conda/monailabel/sample-apps/endoscopy\n",
      "  monaibundle                   : /opt/conda/monailabel/sample-apps/monaibundle\n",
      "  pathology                     : /opt/conda/monailabel/sample-apps/pathology\n",
      "  radiology                     : /opt/conda/monailabel/sample-apps/radiology\n",
      "\n"
     ]
    }
   ],
   "source": [
    "# check available apps\n",
    "!monailabel apps"
   ]
  },
  {
   "cell_type": "markdown",
   "id": "f7608129",
   "metadata": {},
   "source": [
    "### download radiology and pathology example script"
   ]
  },
  {
   "cell_type": "code",
   "execution_count": 5,
   "id": "3794afc0",
   "metadata": {},
   "outputs": [
    {
     "name": "stdout",
     "output_type": "stream",
     "text": [
      "Using PYTHONPATH=/opt:\n",
      "Directory already exists: /home/hryu-nvidia-com/workspace-monailabel-labs/apps/radiology\n",
      "Using PYTHONPATH=/opt:\n",
      "pathology is copied at: /home/hryu-nvidia-com/workspace-monailabel-labs/apps/pathology\n"
     ]
    }
   ],
   "source": [
    "!monailabel apps --download --name radiology --output apps\n",
    "!monailabel apps --download --name pathology --output apps"
   ]
  },
  {
   "cell_type": "markdown",
   "id": "96fced99",
   "metadata": {},
   "source": [
    "### Download available Dataset"
   ]
  },
  {
   "cell_type": "code",
   "execution_count": 3,
   "id": "d4bb1234",
   "metadata": {},
   "outputs": [
    {
     "name": "stdout",
     "output_type": "stream",
     "text": [
      "Using PYTHONPATH=/opt:\n",
      "Available Datasets are:\n",
      "----------------------------------------------------\n",
      "  Task01_BrainTumour            : https://msd-for-monai.s3-us-west-2.amazonaws.com/Task01_BrainTumour.tar\n",
      "  Task02_Heart                  : https://msd-for-monai.s3-us-west-2.amazonaws.com/Task02_Heart.tar\n",
      "  Task03_Liver                  : https://msd-for-monai.s3-us-west-2.amazonaws.com/Task03_Liver.tar\n",
      "  Task04_Hippocampus            : https://msd-for-monai.s3-us-west-2.amazonaws.com/Task04_Hippocampus.tar\n",
      "  Task05_Prostate               : https://msd-for-monai.s3-us-west-2.amazonaws.com/Task05_Prostate.tar\n",
      "  Task06_Lung                   : https://msd-for-monai.s3-us-west-2.amazonaws.com/Task06_Lung.tar\n",
      "  Task07_Pancreas               : https://msd-for-monai.s3-us-west-2.amazonaws.com/Task07_Pancreas.tar\n",
      "  Task08_HepaticVessel          : https://msd-for-monai.s3-us-west-2.amazonaws.com/Task08_HepaticVessel.tar\n",
      "  Task09_Spleen                 : https://msd-for-monai.s3-us-west-2.amazonaws.com/Task09_Spleen.tar\n",
      "  Task10_Colon                  : https://msd-for-monai.s3-us-west-2.amazonaws.com/Task10_Colon.tar\n",
      "\n"
     ]
    }
   ],
   "source": [
    "# check available  sample Datasets\n",
    "!monailabel datasets # List sample datasets\n"
   ]
  },
  {
   "cell_type": "markdown",
   "id": "71287234",
   "metadata": {},
   "source": [
    "#### download sample dataset for segmentation "
   ]
  },
  {
   "cell_type": "code",
   "execution_count": 4,
   "id": "1fce5914",
   "metadata": {},
   "outputs": [
    {
     "name": "stdout",
     "output_type": "stream",
     "text": [
      "Using PYTHONPATH=/opt:\n",
      "Directory already exists: datasets/Task09_Spleen\n",
      "Using PYTHONPATH=/opt:\n",
      "Directory already exists: datasets/Task06_Lung\n"
     ]
    }
   ],
   "source": [
    "!monailabel datasets --download --name Task09_Spleen --output datasets\n",
    "!monailabel datasets --download --name Task06_Lung  --output datasets"
   ]
  },
  {
   "cell_type": "code",
   "execution_count": 5,
   "id": "56d32524",
   "metadata": {},
   "outputs": [
    {
     "name": "stdout",
     "output_type": "stream",
     "text": [
      "Using PYTHONPATH=/opt:\n",
      "Directory already exists: datasets/Task09_Spleen\n",
      "Using PYTHONPATH=/opt:\n",
      "Directory already exists: datasets/Task06_Lung\n"
     ]
    }
   ],
   "source": [
    "!monailabel datasets --download --name Task09_Spleen --output datasets\n",
    "!monailabel datasets --download --name Task06_Lung  --output datasets"
   ]
  },
  {
   "cell_type": "markdown",
   "id": "c872e1cf",
   "metadata": {},
   "source": [
    "# launch monai app server"
   ]
  },
  {
   "cell_type": "markdown",
   "id": "88c88ee2",
   "metadata": {},
   "source": [
    "## check allocated port for 9999 port"
   ]
  },
  {
   "cell_type": "code",
   "execution_count": 6,
   "id": "310a719b",
   "metadata": {},
   "outputs": [
    {
     "name": "stdout",
     "output_type": "stream",
     "text": [
      "ssh -L localhost:8888:dgx06:9140 -L localhost:9999:dgx06:10140 ssh.axisapps.io -l 8f7b4f2d689149479812c7050e28a062\n"
     ]
    }
   ],
   "source": [
    "!cat ~/port_forwarding_command"
   ]
  },
  {
   "cell_type": "markdown",
   "id": "9c686da3",
   "metadata": {},
   "source": [
    "\n",
    "#### for example, \n",
    "if the port_forwarding_command is below : \n",
    "```\n",
    "ssh -L localhost:8888:dgx05:8730 -L localhost:9999:dgx05:9730 ssh.axisapps.io -l 9bffbbd44d83471292ec7189545006fd\n",
    "```\n",
    "\n",
    "check `-L localhost:9999:dgx05:9730` \n",
    "\n",
    "\n",
    "- PORT number :  `9730`\n",
    "- app  : `~/workspace-monailabel-labs/apps/radiology`\n",
    "- studies :  `~/workspace-monailabel-labs/dataset/Task09_Spleen/imagesTr`\n",
    "- configure model : segmentation_spleen \n",
    "\n",
    "```\n",
    "monailabel start_server --app  ~/workspace-monailabel-labs/apps/radiology  --studies  ~/workspace-monailabel-labs/datasets/Task09_Spleen/imagesTr --conf models segmentation_spleen --host 0.0.0.0 --port 9730 --verbose DEBUG\n",
    "```"
   ]
  },
  {
   "cell_type": "markdown",
   "id": "4df796e9",
   "metadata": {},
   "source": [
    "### launch monai label server ( lung segment)\n",
    "\n",
    "- step1. copy command ( Control + C)  \n",
    "- step2. open New terminal \n",
    "- step3. (Control + V) in terminal \n",
    "- step4. reload and reaccess server in 3D Slicer \n",
    "\n",
    "```monailabel start_server --app  ~/workspace-monailabel-labs/apps/radiology  --studies  ~/workspace-monailabel-labs/datasets/Task09_Spleen/imagesTr --conf models segmentation_spleen --host 0.0.0.0 --port 9730 --verbose DEBUG```"
   ]
  },
  {
   "cell_type": "code",
   "execution_count": 7,
   "id": "3a5a99cf",
   "metadata": {},
   "outputs": [
    {
     "data": {
      "text/plain": [
       "'/lustre/workspaces/w54a7mgn/workspace-monailabel-labs'"
      ]
     },
     "execution_count": 7,
     "metadata": {},
     "output_type": "execute_result"
    }
   ],
   "source": [
    "import os\n",
    "os.getcwd()"
   ]
  },
  {
   "cell_type": "code",
   "execution_count": 8,
   "id": "1e9c0443",
   "metadata": {},
   "outputs": [
    {
     "name": "stdout",
     "output_type": "stream",
     "text": [
      "/lustre/workspaces/w54a7mgn/workspace-monailabel-labs\n"
     ]
    }
   ],
   "source": [
    "!pwd"
   ]
  },
  {
   "cell_type": "code",
   "execution_count": null,
   "id": "ce26cf30",
   "metadata": {},
   "outputs": [],
   "source": []
  },
  {
   "cell_type": "markdown",
   "id": "5d02cb2d",
   "metadata": {},
   "source": [
    "### launch monai label server ( deepedit)\n",
    "\n",
    "- step1. copy command ( Control + C)\n",
    "- step2. open New terminal\n",
    "- step3. (Control + V) in terminal\n",
    "- step4. reload and reaccess server in 3D Slicer\n",
    "\n",
    "```monailabel start_server --app  ~/workspace-monailabel-labs/apps/radiology  --studies  ~/workspace-monailabel-labs/datasets/Task09_Spleen/imagesTr --conf models deepedit --host 0.0.0.0 --port 9730 --verbose DEBUG```"
   ]
  },
  {
   "cell_type": "code",
   "execution_count": null,
   "id": "56b42c9c",
   "metadata": {},
   "outputs": [],
   "source": [
    "monailabel start_server --app  ~/workspace-monailabel-labs/apps/radiology  --studies  ~/workspace-monailabel-labs/datasets/Task09_Spleen/imagesTr --conf models deepedit --host 0.0.0.0 --port 9730 --verbose DEBUG"
   ]
  },
  {
   "cell_type": "code",
   "execution_count": null,
   "id": "a74882cb",
   "metadata": {},
   "outputs": [],
   "source": [
    "monailabel start_server --app  /lustre/workspaces/w54a7mgn/workspace-monailabel-labs/apps/radiology  --studies  /lustre/workspaces/w54a7mgn/workspace-monailabel-labs/datasets/Task09_Spleen/imagesTr --conf models segmentation_spleen --host 0.0.0.0 --port 10140 --verbose DEBUG"
   ]
  },
  {
   "cell_type": "markdown",
   "id": "7f3d3730",
   "metadata": {},
   "source": [
    "### launch monai label server ( deepgrow_3d)\n",
    "\n",
    "- step1. copy command ( Control + C)\n",
    "- step2. open New terminal\n",
    "- step3. (Control + V) in terminal\n",
    "- step4. reload and reaccess server in 3D Slicer\n",
    "\n",
    "```monailabel start_server --app  ~/workspace-monailabel-labs/apps/radiology  --studies  ~/workspace-monailabel-labs/datasets/Task09_Spleen/imagesTr --conf models deepgrow_3d --host 0.0.0.0 --port 9730 --verbose DEBUG```"
   ]
  },
  {
   "cell_type": "code",
   "execution_count": null,
   "id": "8ebfebbc",
   "metadata": {},
   "outputs": [],
   "source": [
    "# monailabel start_server --app  ~/workspace-monailabel-labs/apps/radiology  --studies  ~/workspace-monailabel-labs/datasets/Task09_Spleen/imagesTr --conf models deepgrow_3d --host 0.0.0.0 --port 9730 --verbose DEBUG\n",
    "\n"
   ]
  },
  {
   "cell_type": "code",
   "execution_count": 9,
   "id": "747e1b7e",
   "metadata": {},
   "outputs": [
    {
     "name": "stdout",
     "output_type": "stream",
     "text": [
      "Defaulting to user installation because normal site-packages is not writeable\n",
      "Looking in indexes: https://pypi.org/simple, https://pypi.ngc.nvidia.com\n",
      "Requirement already satisfied: monailabel in /opt/conda/lib/python3.8/site-packages (0.4.2)\n",
      "Requirement already satisfied: dicomweb-client==0.56.2 in /opt/conda/lib/python3.8/site-packages (from monailabel) (0.56.2)\n",
      "Requirement already satisfied: python-jose[cryptography]==3.3.0 in /opt/conda/lib/python3.8/site-packages (from monailabel) (3.3.0)\n",
      "Requirement already satisfied: einops>=0.3.2 in /opt/conda/lib/python3.8/site-packages (from monailabel) (0.4.1)\n",
      "Requirement already satisfied: bcrypt==3.2.2 in /opt/conda/lib/python3.8/site-packages (from monailabel) (3.2.2)\n",
      "Requirement already satisfied: pydicom-seg==0.4.0 in /opt/conda/lib/python3.8/site-packages (from monailabel) (0.4.0)\n",
      "Requirement already satisfied: fastapi==0.78.0 in /opt/conda/lib/python3.8/site-packages (from monailabel) (0.78.0)\n",
      "Requirement already satisfied: numpymaxflow==0.0.2 in /opt/conda/lib/python3.8/site-packages (from monailabel) (0.0.2)\n",
      "Requirement already satisfied: pydantic==1.9.1 in /opt/conda/lib/python3.8/site-packages (from monailabel) (1.9.1)\n",
      "Requirement already satisfied: pynetdicom==2.0.2 in /opt/conda/lib/python3.8/site-packages (from monailabel) (2.0.2)\n",
      "Requirement already satisfied: PyYAML==6.0 in /opt/conda/lib/python3.8/site-packages (from monailabel) (6.0)\n",
      "Requirement already satisfied: filelock==3.7.1 in /opt/conda/lib/python3.8/site-packages (from monailabel) (3.7.1)\n",
      "Requirement already satisfied: girder-client==3.1.14 in /opt/conda/lib/python3.8/site-packages (from monailabel) (3.1.14)\n",
      "Requirement already satisfied: expiringdict==1.2.1 in /opt/conda/lib/python3.8/site-packages (from monailabel) (1.2.1)\n",
      "Requirement already satisfied: ninja==1.10.2.3 in /opt/conda/lib/python3.8/site-packages (from monailabel) (1.10.2.3)\n",
      "Requirement already satisfied: schedule==1.1.0 in /opt/conda/lib/python3.8/site-packages (from monailabel) (1.1.0)\n",
      "Requirement already satisfied: pydicom==2.3.0 in /opt/conda/lib/python3.8/site-packages (from monailabel) (2.3.0)\n",
      "Requirement already satisfied: requests-toolbelt==0.9.1 in /opt/conda/lib/python3.8/site-packages (from monailabel) (0.9.1)\n",
      "Requirement already satisfied: httpx==0.23.0 in /opt/conda/lib/python3.8/site-packages (from monailabel) (0.23.0)\n",
      "Requirement already satisfied: torch>=1.7 in /opt/conda/lib/python3.8/site-packages (from monailabel) (1.11.0a0+bfe5ad2)\n",
      "Requirement already satisfied: monai[fire,gdown,ignite,itk,lmdb,nibabel,openslide,pillow,psutil,skimage,tensorboard,torchvision,tqdm]>=0.9.1 in /opt/conda/lib/python3.8/site-packages (from monailabel) (0.9.1)\n",
      "Requirement already satisfied: timeloop==1.0.2 in /opt/conda/lib/python3.8/site-packages (from monailabel) (1.0.2)\n",
      "Requirement already satisfied: python-dotenv==0.20.0 in /opt/conda/lib/python3.8/site-packages (from monailabel) (0.20.0)\n",
      "Requirement already satisfied: uvicorn==0.17.6 in /opt/conda/lib/python3.8/site-packages (from monailabel) (0.17.6)\n",
      "Requirement already satisfied: opencv-python-headless==4.5.5.64 in /opt/conda/lib/python3.8/site-packages (from monailabel) (4.5.5.64)\n",
      "Requirement already satisfied: pynrrd==0.4.3 in /opt/conda/lib/python3.8/site-packages (from monailabel) (0.4.3)\n",
      "Requirement already satisfied: python-multipart==0.0.5 in /opt/conda/lib/python3.8/site-packages (from monailabel) (0.0.5)\n",
      "Requirement already satisfied: watchdog==2.1.8 in /opt/conda/lib/python3.8/site-packages (from monailabel) (2.1.8)\n",
      "Requirement already satisfied: passlib==1.7.4 in /opt/conda/lib/python3.8/site-packages (from monailabel) (1.7.4)\n",
      "Requirement already satisfied: cffi>=1.1 in /opt/conda/lib/python3.8/site-packages (from bcrypt==3.2.2->monailabel) (1.15.0)\n",
      "Requirement already satisfied: Pillow>=8.3 in /opt/conda/lib/python3.8/site-packages (from dicomweb-client==0.56.2->monailabel) (9.2.0)\n",
      "Requirement already satisfied: numpy>=1.19 in /opt/conda/lib/python3.8/site-packages (from dicomweb-client==0.56.2->monailabel) (1.22.0)\n",
      "Requirement already satisfied: requests>=2.18 in /opt/conda/lib/python3.8/site-packages (from dicomweb-client==0.56.2->monailabel) (2.26.0)\n",
      "Requirement already satisfied: retrying>=1.3.3 in /opt/conda/lib/python3.8/site-packages (from dicomweb-client==0.56.2->monailabel) (1.3.3)\n",
      "Requirement already satisfied: starlette==0.19.1 in /opt/conda/lib/python3.8/site-packages (from fastapi==0.78.0->monailabel) (0.19.1)\n",
      "Requirement already satisfied: click>=6.7 in /opt/conda/lib/python3.8/site-packages (from girder-client==3.1.14->monailabel) (8.0.3)\n",
      "Requirement already satisfied: diskcache in /opt/conda/lib/python3.8/site-packages (from girder-client==3.1.14->monailabel) (5.4.0)\n",
      "Requirement already satisfied: sniffio in /opt/conda/lib/python3.8/site-packages (from httpx==0.23.0->monailabel) (1.3.0)\n",
      "Requirement already satisfied: httpcore<0.16.0,>=0.15.0 in /opt/conda/lib/python3.8/site-packages (from httpx==0.23.0->monailabel) (0.15.0)\n",
      "Requirement already satisfied: rfc3986[idna2008]<2,>=1.3 in /opt/conda/lib/python3.8/site-packages (from httpx==0.23.0->monailabel) (1.5.0)\n",
      "Requirement already satisfied: certifi in /opt/conda/lib/python3.8/site-packages (from httpx==0.23.0->monailabel) (2021.10.8)\n",
      "Requirement already satisfied: typing-extensions>=3.7.4.3 in /opt/conda/lib/python3.8/site-packages (from pydantic==1.9.1->monailabel) (4.0.1)\n",
      "Requirement already satisfied: jsonschema<4.0.0,>=3.2.0 in /opt/conda/lib/python3.8/site-packages (from pydicom-seg==0.4.0->monailabel) (3.2.0)\n",
      "Requirement already satisfied: SimpleITK>1.2.4 in /opt/conda/lib/python3.8/site-packages (from pydicom-seg==0.4.0->monailabel) (2.1.1.2)\n",
      "Requirement already satisfied: rsa in /opt/conda/lib/python3.8/site-packages (from python-jose[cryptography]==3.3.0->monailabel) (4.7.2)\n",
      "Requirement already satisfied: pyasn1 in /opt/conda/lib/python3.8/site-packages (from python-jose[cryptography]==3.3.0->monailabel) (0.4.8)\n",
      "Requirement already satisfied: ecdsa!=0.15 in /opt/conda/lib/python3.8/site-packages (from python-jose[cryptography]==3.3.0->monailabel) (0.18.0)\n",
      "Requirement already satisfied: cryptography>=3.4.0 in /opt/conda/lib/python3.8/site-packages (from python-jose[cryptography]==3.3.0->monailabel) (36.0.1)\n",
      "Requirement already satisfied: six>=1.4.0 in /opt/conda/lib/python3.8/site-packages (from python-multipart==0.0.5->monailabel) (1.16.0)\n",
      "Requirement already satisfied: asgiref>=3.4.0 in /opt/conda/lib/python3.8/site-packages (from uvicorn==0.17.6->monailabel) (3.5.2)\n",
      "Requirement already satisfied: h11>=0.8 in /opt/conda/lib/python3.8/site-packages (from uvicorn==0.17.6->monailabel) (0.12.0)\n",
      "Requirement already satisfied: anyio<5,>=3.4.0 in /opt/conda/lib/python3.8/site-packages (from starlette==0.19.1->fastapi==0.78.0->monailabel) (3.6.1)\n",
      "Requirement already satisfied: nibabel in /opt/conda/lib/python3.8/site-packages (from monai[fire,gdown,ignite,itk,lmdb,nibabel,openslide,pillow,psutil,skimage,tensorboard,torchvision,tqdm]>=0.9.1->monailabel) (4.0.1)\n",
      "Requirement already satisfied: psutil in /opt/conda/lib/python3.8/site-packages (from monai[fire,gdown,ignite,itk,lmdb,nibabel,openslide,pillow,psutil,skimage,tensorboard,torchvision,tqdm]>=0.9.1->monailabel) (5.9.0)\n",
      "Requirement already satisfied: torchvision in /opt/conda/lib/python3.8/site-packages (from monai[fire,gdown,ignite,itk,lmdb,nibabel,openslide,pillow,psutil,skimage,tensorboard,torchvision,tqdm]>=0.9.1->monailabel) (0.12.0a0)\n",
      "Requirement already satisfied: tqdm>=4.47.0 in /opt/conda/lib/python3.8/site-packages (from monai[fire,gdown,ignite,itk,lmdb,nibabel,openslide,pillow,psutil,skimage,tensorboard,torchvision,tqdm]>=0.9.1->monailabel) (4.62.3)\n",
      "Requirement already satisfied: pytorch-ignite==0.4.9 in /opt/conda/lib/python3.8/site-packages (from monai[fire,gdown,ignite,itk,lmdb,nibabel,openslide,pillow,psutil,skimage,tensorboard,torchvision,tqdm]>=0.9.1->monailabel) (0.4.9)\n",
      "Requirement already satisfied: lmdb in /opt/conda/lib/python3.8/site-packages (from monai[fire,gdown,ignite,itk,lmdb,nibabel,openslide,pillow,psutil,skimage,tensorboard,torchvision,tqdm]>=0.9.1->monailabel) (1.3.0)\n",
      "Requirement already satisfied: scikit-image>=0.14.2 in /opt/conda/lib/python3.8/site-packages (from monai[fire,gdown,ignite,itk,lmdb,nibabel,openslide,pillow,psutil,skimage,tensorboard,torchvision,tqdm]>=0.9.1->monailabel) (0.19.3)\n",
      "Requirement already satisfied: openslide-python==1.1.2 in /opt/conda/lib/python3.8/site-packages (from monai[fire,gdown,ignite,itk,lmdb,nibabel,openslide,pillow,psutil,skimage,tensorboard,torchvision,tqdm]>=0.9.1->monailabel) (1.1.2)\n",
      "Requirement already satisfied: tensorboard in /opt/conda/lib/python3.8/site-packages (from monai[fire,gdown,ignite,itk,lmdb,nibabel,openslide,pillow,psutil,skimage,tensorboard,torchvision,tqdm]>=0.9.1->monailabel) (2.10.0)\n",
      "Requirement already satisfied: fire in /opt/conda/lib/python3.8/site-packages (from monai[fire,gdown,ignite,itk,lmdb,nibabel,openslide,pillow,psutil,skimage,tensorboard,torchvision,tqdm]>=0.9.1->monailabel) (0.4.0)\n",
      "Requirement already satisfied: itk>=5.2 in /opt/conda/lib/python3.8/site-packages (from monai[fire,gdown,ignite,itk,lmdb,nibabel,openslide,pillow,psutil,skimage,tensorboard,torchvision,tqdm]>=0.9.1->monailabel) (5.2.1.post1)\n",
      "Requirement already satisfied: gdown>=4.4.0 in /opt/conda/lib/python3.8/site-packages (from monai[fire,gdown,ignite,itk,lmdb,nibabel,openslide,pillow,psutil,skimage,tensorboard,torchvision,tqdm]>=0.9.1->monailabel) (4.5.1)\n",
      "Requirement already satisfied: packaging in /opt/conda/lib/python3.8/site-packages (from pytorch-ignite==0.4.9->monai[fire,gdown,ignite,itk,lmdb,nibabel,openslide,pillow,psutil,skimage,tensorboard,torchvision,tqdm]>=0.9.1->monailabel) (21.3)\n",
      "Requirement already satisfied: pycparser in /opt/conda/lib/python3.8/site-packages (from cffi>=1.1->bcrypt==3.2.2->monailabel) (2.21)\n",
      "Requirement already satisfied: beautifulsoup4 in /opt/conda/lib/python3.8/site-packages (from gdown>=4.4.0->monai[fire,gdown,ignite,itk,lmdb,nibabel,openslide,pillow,psutil,skimage,tensorboard,torchvision,tqdm]>=0.9.1->monailabel) (4.10.0)\n",
      "Requirement already satisfied: idna>=2.8 in /opt/conda/lib/python3.8/site-packages (from anyio<5,>=3.4.0->starlette==0.19.1->fastapi==0.78.0->monailabel) (3.1)\n",
      "Requirement already satisfied: itk-numerics==5.2.1.post1 in /opt/conda/lib/python3.8/site-packages (from itk>=5.2->monai[fire,gdown,ignite,itk,lmdb,nibabel,openslide,pillow,psutil,skimage,tensorboard,torchvision,tqdm]>=0.9.1->monailabel) (5.2.1.post1)\n",
      "Requirement already satisfied: itk-io==5.2.1.post1 in /opt/conda/lib/python3.8/site-packages (from itk>=5.2->monai[fire,gdown,ignite,itk,lmdb,nibabel,openslide,pillow,psutil,skimage,tensorboard,torchvision,tqdm]>=0.9.1->monailabel) (5.2.1.post1)\n",
      "Requirement already satisfied: itk-segmentation==5.2.1.post1 in /opt/conda/lib/python3.8/site-packages (from itk>=5.2->monai[fire,gdown,ignite,itk,lmdb,nibabel,openslide,pillow,psutil,skimage,tensorboard,torchvision,tqdm]>=0.9.1->monailabel) (5.2.1.post1)\n",
      "Requirement already satisfied: itk-filtering==5.2.1.post1 in /opt/conda/lib/python3.8/site-packages (from itk>=5.2->monai[fire,gdown,ignite,itk,lmdb,nibabel,openslide,pillow,psutil,skimage,tensorboard,torchvision,tqdm]>=0.9.1->monailabel) (5.2.1.post1)\n",
      "Requirement already satisfied: itk-core==5.2.1.post1 in /opt/conda/lib/python3.8/site-packages (from itk>=5.2->monai[fire,gdown,ignite,itk,lmdb,nibabel,openslide,pillow,psutil,skimage,tensorboard,torchvision,tqdm]>=0.9.1->monailabel) (5.2.1.post1)\n",
      "Requirement already satisfied: itk-registration==5.2.1.post1 in /opt/conda/lib/python3.8/site-packages (from itk>=5.2->monai[fire,gdown,ignite,itk,lmdb,nibabel,openslide,pillow,psutil,skimage,tensorboard,torchvision,tqdm]>=0.9.1->monailabel) (5.2.1.post1)\n",
      "Requirement already satisfied: pyrsistent>=0.14.0 in /opt/conda/lib/python3.8/site-packages (from jsonschema<4.0.0,>=3.2.0->pydicom-seg==0.4.0->monailabel) (0.18.1)\n",
      "Requirement already satisfied: setuptools in /opt/conda/lib/python3.8/site-packages (from jsonschema<4.0.0,>=3.2.0->pydicom-seg==0.4.0->monailabel) (59.5.0)\n",
      "Requirement already satisfied: attrs>=17.4.0 in /opt/conda/lib/python3.8/site-packages (from jsonschema<4.0.0,>=3.2.0->pydicom-seg==0.4.0->monailabel) (21.4.0)\n",
      "Requirement already satisfied: charset-normalizer~=2.0.0 in /opt/conda/lib/python3.8/site-packages (from requests>=2.18->dicomweb-client==0.56.2->monailabel) (2.0.9)\n",
      "Requirement already satisfied: urllib3<1.27,>=1.21.1 in /opt/conda/lib/python3.8/site-packages (from requests>=2.18->dicomweb-client==0.56.2->monailabel) (1.26.7)\n",
      "Requirement already satisfied: imageio>=2.4.1 in /opt/conda/lib/python3.8/site-packages (from scikit-image>=0.14.2->monai[fire,gdown,ignite,itk,lmdb,nibabel,openslide,pillow,psutil,skimage,tensorboard,torchvision,tqdm]>=0.9.1->monailabel) (2.21.2)\n",
      "Requirement already satisfied: PyWavelets>=1.1.1 in /opt/conda/lib/python3.8/site-packages (from scikit-image>=0.14.2->monai[fire,gdown,ignite,itk,lmdb,nibabel,openslide,pillow,psutil,skimage,tensorboard,torchvision,tqdm]>=0.9.1->monailabel) (1.3.0)\n",
      "Requirement already satisfied: tifffile>=2019.7.26 in /opt/conda/lib/python3.8/site-packages (from scikit-image>=0.14.2->monai[fire,gdown,ignite,itk,lmdb,nibabel,openslide,pillow,psutil,skimage,tensorboard,torchvision,tqdm]>=0.9.1->monailabel) (2022.8.12)\n",
      "Requirement already satisfied: scipy>=1.4.1 in /opt/conda/lib/python3.8/site-packages (from scikit-image>=0.14.2->monai[fire,gdown,ignite,itk,lmdb,nibabel,openslide,pillow,psutil,skimage,tensorboard,torchvision,tqdm]>=0.9.1->monailabel) (1.6.3)\n",
      "Requirement already satisfied: networkx>=2.2 in /opt/conda/lib/python3.8/site-packages (from scikit-image>=0.14.2->monai[fire,gdown,ignite,itk,lmdb,nibabel,openslide,pillow,psutil,skimage,tensorboard,torchvision,tqdm]>=0.9.1->monailabel) (2.8.6)\n",
      "Requirement already satisfied: termcolor in /opt/conda/lib/python3.8/site-packages (from fire->monai[fire,gdown,ignite,itk,lmdb,nibabel,openslide,pillow,psutil,skimage,tensorboard,torchvision,tqdm]>=0.9.1->monailabel) (1.1.0)\n",
      "Requirement already satisfied: tensorboard-data-server<0.7.0,>=0.6.0 in /opt/conda/lib/python3.8/site-packages (from tensorboard->monai[fire,gdown,ignite,itk,lmdb,nibabel,openslide,pillow,psutil,skimage,tensorboard,torchvision,tqdm]>=0.9.1->monailabel) (0.6.1)\n",
      "Requirement already satisfied: tensorboard-plugin-wit>=1.6.0 in /opt/conda/lib/python3.8/site-packages (from tensorboard->monai[fire,gdown,ignite,itk,lmdb,nibabel,openslide,pillow,psutil,skimage,tensorboard,torchvision,tqdm]>=0.9.1->monailabel) (1.8.1)\n",
      "Requirement already satisfied: protobuf<3.20,>=3.9.2 in /opt/conda/lib/python3.8/site-packages (from tensorboard->monai[fire,gdown,ignite,itk,lmdb,nibabel,openslide,pillow,psutil,skimage,tensorboard,torchvision,tqdm]>=0.9.1->monailabel) (3.19.3)\n",
      "Requirement already satisfied: grpcio>=1.24.3 in /opt/conda/lib/python3.8/site-packages (from tensorboard->monai[fire,gdown,ignite,itk,lmdb,nibabel,openslide,pillow,psutil,skimage,tensorboard,torchvision,tqdm]>=0.9.1->monailabel) (1.43.0)\n",
      "Requirement already satisfied: werkzeug>=1.0.1 in /opt/conda/lib/python3.8/site-packages (from tensorboard->monai[fire,gdown,ignite,itk,lmdb,nibabel,openslide,pillow,psutil,skimage,tensorboard,torchvision,tqdm]>=0.9.1->monailabel) (2.0.2)\n",
      "Requirement already satisfied: google-auth-oauthlib<0.5,>=0.4.1 in /opt/conda/lib/python3.8/site-packages (from tensorboard->monai[fire,gdown,ignite,itk,lmdb,nibabel,openslide,pillow,psutil,skimage,tensorboard,torchvision,tqdm]>=0.9.1->monailabel) (0.4.6)\n",
      "Requirement already satisfied: wheel>=0.26 in /opt/conda/lib/python3.8/site-packages (from tensorboard->monai[fire,gdown,ignite,itk,lmdb,nibabel,openslide,pillow,psutil,skimage,tensorboard,torchvision,tqdm]>=0.9.1->monailabel) (0.37.0)\n",
      "Requirement already satisfied: google-auth<3,>=1.6.3 in /opt/conda/lib/python3.8/site-packages (from tensorboard->monai[fire,gdown,ignite,itk,lmdb,nibabel,openslide,pillow,psutil,skimage,tensorboard,torchvision,tqdm]>=0.9.1->monailabel) (2.4.1)\n",
      "Requirement already satisfied: absl-py>=0.4 in /opt/conda/lib/python3.8/site-packages (from tensorboard->monai[fire,gdown,ignite,itk,lmdb,nibabel,openslide,pillow,psutil,skimage,tensorboard,torchvision,tqdm]>=0.9.1->monailabel) (1.0.0)\n",
      "Requirement already satisfied: markdown>=2.6.8 in /opt/conda/lib/python3.8/site-packages (from tensorboard->monai[fire,gdown,ignite,itk,lmdb,nibabel,openslide,pillow,psutil,skimage,tensorboard,torchvision,tqdm]>=0.9.1->monailabel) (3.3.6)\n",
      "Requirement already satisfied: cachetools<6.0,>=2.0.0 in /opt/conda/lib/python3.8/site-packages (from google-auth<3,>=1.6.3->tensorboard->monai[fire,gdown,ignite,itk,lmdb,nibabel,openslide,pillow,psutil,skimage,tensorboard,torchvision,tqdm]>=0.9.1->monailabel) (5.0.0)\n",
      "Requirement already satisfied: pyasn1-modules>=0.2.1 in /opt/conda/lib/python3.8/site-packages (from google-auth<3,>=1.6.3->tensorboard->monai[fire,gdown,ignite,itk,lmdb,nibabel,openslide,pillow,psutil,skimage,tensorboard,torchvision,tqdm]>=0.9.1->monailabel) (0.2.8)\n",
      "Requirement already satisfied: requests-oauthlib>=0.7.0 in /opt/conda/lib/python3.8/site-packages (from google-auth-oauthlib<0.5,>=0.4.1->tensorboard->monai[fire,gdown,ignite,itk,lmdb,nibabel,openslide,pillow,psutil,skimage,tensorboard,torchvision,tqdm]>=0.9.1->monailabel) (1.3.0)\n",
      "Requirement already satisfied: importlib-metadata>=4.4 in /opt/conda/lib/python3.8/site-packages (from markdown>=2.6.8->tensorboard->monai[fire,gdown,ignite,itk,lmdb,nibabel,openslide,pillow,psutil,skimage,tensorboard,torchvision,tqdm]>=0.9.1->monailabel) (4.10.1)\n",
      "Requirement already satisfied: pyparsing!=3.0.5,>=2.0.2 in /opt/conda/lib/python3.8/site-packages (from packaging->pytorch-ignite==0.4.9->monai[fire,gdown,ignite,itk,lmdb,nibabel,openslide,pillow,psutil,skimage,tensorboard,torchvision,tqdm]>=0.9.1->monailabel) (3.0.6)\n",
      "Requirement already satisfied: soupsieve>1.2 in /opt/conda/lib/python3.8/site-packages (from beautifulsoup4->gdown>=4.4.0->monai[fire,gdown,ignite,itk,lmdb,nibabel,openslide,pillow,psutil,skimage,tensorboard,torchvision,tqdm]>=0.9.1->monailabel) (2.3.1)\n",
      "Requirement already satisfied: PySocks!=1.5.7,>=1.5.6 in /opt/conda/lib/python3.8/site-packages (from requests>=2.18->dicomweb-client==0.56.2->monailabel) (1.7.1)\n",
      "Requirement already satisfied: zipp>=0.5 in /opt/conda/lib/python3.8/site-packages (from importlib-metadata>=4.4->markdown>=2.6.8->tensorboard->monai[fire,gdown,ignite,itk,lmdb,nibabel,openslide,pillow,psutil,skimage,tensorboard,torchvision,tqdm]>=0.9.1->monailabel) (3.7.0)\n",
      "Requirement already satisfied: oauthlib>=3.0.0 in /opt/conda/lib/python3.8/site-packages (from requests-oauthlib>=0.7.0->google-auth-oauthlib<0.5,>=0.4.1->tensorboard->monai[fire,gdown,ignite,itk,lmdb,nibabel,openslide,pillow,psutil,skimage,tensorboard,torchvision,tqdm]>=0.9.1->monailabel) (3.1.1)\n",
      "\n",
      "\u001b[1m[\u001b[0m\u001b[34;49mnotice\u001b[0m\u001b[1;39;49m]\u001b[0m\u001b[39;49m A new release of pip available: \u001b[0m\u001b[31;49m22.1.2\u001b[0m\u001b[39;49m -> \u001b[0m\u001b[32;49m22.3\u001b[0m\n",
      "\u001b[1m[\u001b[0m\u001b[34;49mnotice\u001b[0m\u001b[1;39;49m]\u001b[0m\u001b[39;49m To update, run: \u001b[0m\u001b[32;49mpip install --upgrade pip\u001b[0m\n"
     ]
    }
   ],
   "source": [
    "!pip install monailabel"
   ]
  },
  {
   "cell_type": "code",
   "execution_count": null,
   "id": "3853fa56",
   "metadata": {},
   "outputs": [],
   "source": [
    "monailabel start_server --app  /lustre/workspaces/w54a7mgn/workspace-monailabel-labs/apps/radiology  --studies  /lustre/workspaces/w54a7mgn/workspace-monailabel-labs/datasets/Task09_Spleen/imagesTr --conf models deepgrow_3d --host 0.0.0.0 --port 10140 --verbose DEBUG"
   ]
  },
  {
   "cell_type": "code",
   "execution_count": null,
   "id": "28e3332d",
   "metadata": {},
   "outputs": [],
   "source": [
    "Task06_Lung"
   ]
  },
  {
   "cell_type": "code",
   "execution_count": null,
   "id": "bdc433ab",
   "metadata": {},
   "outputs": [],
   "source": [
    "monailabel start_server --app  /lustre/workspaces/w54a7mgn/workspace-monailabel-labs/apps/radiology  --studies  /lustre/workspaces/w54a7mgn/workspace-monailabel-labs/datasets/Task06_Lung/imagesTr --conf models deepgrow_3d --host 0.0.0.0 --port 10140 --verbose DEBUG"
   ]
  },
  {
   "cell_type": "markdown",
   "id": "8e6c741c",
   "metadata": {},
   "source": [
    "### launch monai label server ( custom model segmentation_lung)\n",
    "\n",
    "dataset lung \n",
    "- step0. copy `apps/libs/configs/segmentation.py` to new `segmentation_lung.py` \n",
    "- step1. open and edit label `right lung:1` , `left lung:2` , `airways:3` \n",
    "- step2. edit configure  `\"use_pretrained_model\", \"false\"` and save\n",
    "- step3. copy command ( Control + C)\n",
    "- step4. open New terminal\n",
    "- step5. (Control + V) in terminal\n",
    "- step6. reload and reaccess server in 3D Slicer\n",
    "\n",
    "```monailabel start_server --app  ~/workspace-monailabel-labs/apps/radiology  --studies  ~/workspace-monailabel-labs/datasets/Task06_Lung/imagesTr --conf models segmentation_lung --host 0.0.0.0 --port 9730 --verbose DEBUG```"
   ]
  },
  {
   "cell_type": "code",
   "execution_count": null,
   "id": "8ff50d7c",
   "metadata": {},
   "outputs": [],
   "source": [
    "monailabel start_server --app  ~/workspace-monailabel-labs/apps/radiology  --studies  ~/workspace-monailabel-labs/datasets/Task09_Spleen/imagesTr --conf models deepgrow_3d --host 0.0.0.0 --port 9730 --verbose DEBUG\n",
    "\n"
   ]
  },
  {
   "cell_type": "code",
   "execution_count": null,
   "id": "443cf9c0",
   "metadata": {},
   "outputs": [],
   "source": [
    "monailabel start_server --app  ~/workspace-monailabel-labs/apps/radiology  --studies  ~/workspace-monailabel-labs/datasets/Task09_Spleen/imagesTr --conf models deepedit --host 0.0.0.0 --port 9730 --verbose DEBUG\n",
    "\n"
   ]
  },
  {
   "cell_type": "code",
   "execution_count": null,
   "id": "a84d8c09",
   "metadata": {},
   "outputs": [],
   "source": [
    "monailabel start_server --app  ~/workspace-monailabel-labs/apps/radiology  --studies  ~/workspace-monailabel-labs/datasets/Task09_Spleen/imagesTr --conf models segmentaion --host 0.0.0.0 --port 9730 --verbose DEBUG\n",
    "\n"
   ]
  }
 ],
 "metadata": {
  "kernelspec": {
   "display_name": "Python 3 (ipykernel)",
   "language": "python",
   "name": "python3"
  },
  "language_info": {
   "codemirror_mode": {
    "name": "ipython",
    "version": 3
   },
   "file_extension": ".py",
   "mimetype": "text/x-python",
   "name": "python",
   "nbconvert_exporter": "python",
   "pygments_lexer": "ipython3",
   "version": "3.8.12"
  }
 },
 "nbformat": 4,
 "nbformat_minor": 5
}
